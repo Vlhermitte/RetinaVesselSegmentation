{
 "cells": [
  {
   "cell_type": "markdown",
   "source": [
    "# RetinaNet with PyTorch\n",
    "\n",
    "The dataset used can be found at https://www.kaggle.com/datasets/ipythonx/retinal-vessel-segmentation/data"
   ],
   "metadata": {
    "collapsed": false
   },
   "id": "3e788c3308220209"
  },
  {
   "cell_type": "code",
   "execution_count": null,
   "id": "initial_id",
   "metadata": {
    "collapsed": true
   },
   "outputs": [],
   "source": [
    "import numpy as np\n",
    "import matplotlib.pyplot as plt\n",
    "import os\n",
    "import torch\n",
    "import torchvision\n",
    "import torchvision.transforms as transforms\n",
    "from torch.utils.data import Dataset, DataLoader"
   ]
  },
  {
   "cell_type": "code",
   "outputs": [],
   "source": [
    "# Device configuration\n",
    "if torch.cuda.is_available():\n",
    "    device = torch.device('cuda')\n",
    "elif torch.backends.mps.is_available():\n",
    "    device = torch.device('mps')\n",
    "else:\n",
    "    device = torch.device('cpu')\n",
    "print(f\"Using {device} device\")"
   ],
   "metadata": {
    "collapsed": false
   },
   "id": "343b6a82032812e0",
   "execution_count": null
  },
  {
   "cell_type": "markdown",
   "source": [
    "# Load Data"
   ],
   "metadata": {
    "collapsed": false
   },
   "id": "9954b693cd9ff174"
  },
  {
   "cell_type": "code",
   "outputs": [],
   "source": [
    "class RetinaDataset(Dataset):\n",
    "    def __init__(self, imgs, masks, manual, transform=None):\n",
    "        self.imgs = imgs\n",
    "        self.masks = masks\n",
    "        self.manual = manual\n",
    "        self.transform = transform\n",
    "\n",
    "    def __len__(self):\n",
    "        return len(self.imgs)\n",
    "\n",
    "    def __getitem__(self, idx):\n",
    "        img = self.imgs[idx]\n",
    "        mask = self.masks[idx]\n",
    "        manual = self.manual[idx]\n",
    "\n",
    "        if self.transform:\n",
    "            img = self.transform(img)\n",
    "            mask = self.transform(mask)\n",
    "            manual = self.transform(manual)"
   ],
   "metadata": {
    "collapsed": false
   },
   "id": "1630b711f5a28340",
   "execution_count": null
  },
  {
   "cell_type": "code",
   "outputs": [],
   "source": [
    "def read_data(path, dataset=\"DRIVE\"):\n",
    "    imgs = []\n",
    "    masks = []\n",
    "    manuals = []\n",
    "    subFolder = os.listdir(path)\n",
    "    for folder in subFolder:\n",
    "        if folder == \"images\":\n",
    "            for img in os.listdir(os.path.join(path, folder)):\n",
    "                imgs.append(plt.imread(os.path.join(path, folder, img)))\n",
    "        elif folder == \"mask\":\n",
    "            for mask in os.listdir(os.path.join(path, folder)):\n",
    "                masks.append(plt.imread(os.path.join(path, folder, mask)))\n",
    "        elif folder == \"manual1\" or folder == \"1st_manual\":\n",
    "            for manual in os.listdir(os.path.join(path, folder)):\n",
    "                manuals.append(plt.imread(os.path.join(path, folder, manual)))\n",
    "    return imgs, masks, manuals"
   ],
   "metadata": {
    "collapsed": false
   },
   "id": "ae984e89bab57cef",
   "execution_count": null
  },
  {
   "cell_type": "code",
   "outputs": [],
   "source": [
    "train_data = read_data(\"archive/DRIVE/training\")\n",
    "test_data = read_data(\"archive/DRIVE/test\")"
   ],
   "metadata": {
    "collapsed": false
   },
   "id": "b56f170d1846dbd8",
   "execution_count": null
  },
  {
   "cell_type": "code",
   "outputs": [],
   "source": [
    "transform = transforms.Compose([\n",
    "    transforms.ToPILImage(),\n",
    "    transforms.Resize((224, 224)),\n",
    "    transforms.ToTensor()\n",
    "])\n",
    "train_dataset = RetinaDataset(train_data[0], train_data[1], train_data[2], transform)\n",
    "train_loader = DataLoader(train_dataset, batch_size=4, shuffle=True)\n",
    "\n",
    "test_dataset = RetinaDataset(test_data[0], test_data[1], test_data[2], transform)\n",
    "test_loader = DataLoader(test_dataset, batch_size=4, shuffle=True)"
   ],
   "metadata": {
    "collapsed": false
   },
   "id": "1ad4bdb1ea679fbc",
   "execution_count": null
  },
  {
   "cell_type": "markdown",
   "source": [
    "# Image Visualization"
   ],
   "metadata": {
    "collapsed": false
   },
   "id": "e8e4cf67663d4faa"
  },
  {
   "cell_type": "code",
   "outputs": [],
   "source": [
    "def show_image(img, mask, manual):\n",
    "    fig, ax = plt.subplots(1, 3, figsize=(15, 5))\n",
    "    ax[0].imshow(img)\n",
    "    ax[0].set_title(\"Image\")\n",
    "    ax[0].axis(\"off\")\n",
    "    ax[1].imshow(mask)\n",
    "    ax[1].set_title(\"Mask\")\n",
    "    ax[1].axis(\"off\")\n",
    "    ax[2].imshow(manual)\n",
    "    ax[2].set_title(\"Manual\")\n",
    "    ax[2].axis(\"off\")\n",
    "    plt.show()"
   ],
   "metadata": {
    "collapsed": false
   },
   "id": "c686a7c2fbe9d27e",
   "execution_count": null
  },
  {
   "cell_type": "code",
   "outputs": [],
   "source": [
    "show_image(train_data[0][0], train_data[1][0], train_data[2][0])"
   ],
   "metadata": {
    "collapsed": false
   },
   "id": "231d2d68d26bcf0d",
   "execution_count": null
  },
  {
   "cell_type": "markdown",
   "source": [
    "# Model"
   ],
   "metadata": {
    "collapsed": false
   },
   "id": "e9cb0d2c2c635d1b"
  },
  {
   "cell_type": "code",
   "outputs": [],
   "source": [
    "import torch.nn as nn\n",
    "from torchvision.models import ResNet50_Weights\n",
    "from torchsummary import summary"
   ],
   "metadata": {
    "collapsed": false
   },
   "id": "260f3074555dc978",
   "execution_count": null
  },
  {
   "cell_type": "code",
   "outputs": [],
   "source": [
    "class RetinaNet(nn.Module):\n",
    "    \"\"\"\n",
    "    RetinaNet model with ResNet backbone\n",
    "    \"\"\"\n",
    "    def __init__(self):\n",
    "        super(RetinaNet, self).__init__()\n",
    "        self.resnet = torchvision.models.resnet50(weights=ResNet50_Weights.DEFAULT)\n",
    "        # Remove the fully connected layer\n",
    "        self.backbone = nn.Sequential(*list(self.resnet.children())[:-2])\n",
    "        \n",
    "        # Feature Pyramid Network (FPN)\n",
    "        self.fpn = nn.Sequential(\n",
    "            nn.Conv2d(2048, 256, kernel_size=1),\n",
    "            nn.ReLU(),\n",
    "            nn.Upsample(scale_factor=2, mode='bilinear', align_corners=False),\n",
    "            nn.Conv2d(256, 256, kernel_size=3, padding=1),\n",
    "            nn.ReLU()\n",
    "        )\n",
    "        \n",
    "        # Segmentation head\n",
    "        self.segmentation_head = nn.Sequential(\n",
    "            nn.Conv2d(256, 64, kernel_size=3, padding=1),\n",
    "            nn.ReLU(),\n",
    "            nn.Conv2d(64, 64, kernel_size=3, padding=1),\n",
    "            nn.ReLU(),\n",
    "            nn.Conv2d(64, 1, kernel_size=1)  # For binary segmentation\n",
    "        )\n",
    "        \n",
    "    def forward(self, x):\n",
    "        # Extract features from the backbone\n",
    "        features = self.backbone(x)\n",
    "        \n",
    "        # Process features through the FPN\n",
    "        fpn_features = self.fpn(features)\n",
    "        \n",
    "        # Generate the segmentation map\n",
    "        segmentation_map = self.segmentation_head(fpn_features)\n",
    "        \n",
    "        # Apply sigmoid activation for binary segmentation\n",
    "        segmentation_map = torch.sigmoid(segmentation_map)\n",
    "        \n",
    "        return segmentation_map"
   ],
   "metadata": {
    "collapsed": false
   },
   "id": "75b2b39b5dba9c2f",
   "execution_count": null
  },
  {
   "cell_type": "code",
   "outputs": [],
   "source": [
    "model = RetinaNet()\n",
    "summary(model, (3, 224, 224))\n",
    "model = model.to(device)"
   ],
   "metadata": {
    "collapsed": false
   },
   "id": "ec825b18ae4237a1",
   "execution_count": null
  },
  {
   "cell_type": "code",
   "outputs": [],
   "source": [
    "from loss import DiceLoss"
   ],
   "metadata": {
    "collapsed": false
   },
   "id": "b622f5c82b9f86d2",
   "execution_count": null
  },
  {
   "cell_type": "code",
   "outputs": [],
   "source": [
    "# Loss and optimizer\n",
    "criterion = DiceLoss()\n",
    "optimizer = torch.optim.Adam(model.parameters(), lr=0.001)"
   ],
   "metadata": {
    "collapsed": false
   },
   "id": "424a18dd6eb01944",
   "execution_count": null
  },
  {
   "cell_type": "code",
   "outputs": [],
   "source": [
    "# Train the model\n",
    "total_step = len(train_loader)\n",
    "num_epochs = 5\n",
    "\n",
    "for epoch in range(num_epochs):\n",
    "    model.train()\n",
    "    for i, (images, masks, manuals) in enumerate(train_loader):\n",
    "        images = images.to(device)\n",
    "        masks = masks.to(device)\n",
    "        manuals = manuals.to(device)\n",
    "        \n",
    "        # Forward pass\n",
    "        outputs = model(images)\n",
    "        loss = criterion(outputs, masks)\n",
    "        \n",
    "        # Backward and optimize\n",
    "        optimizer.zero_grad()\n",
    "        loss.backward()\n",
    "        optimizer.step()\n",
    "        \n",
    "        if (i+1) % 100 == 0:\n",
    "            print (f'Epoch [{epoch+1}/{num_epochs}], Step [{i+1}/{total_step}], Loss: {loss.item():.4f}')"
   ],
   "metadata": {
    "collapsed": false
   },
   "id": "9ec7dc514f33816f",
   "execution_count": null
  },
  {
   "cell_type": "code",
   "outputs": [],
   "source": [],
   "metadata": {
    "collapsed": false
   },
   "id": "6c49b77ebc023951"
  }
 ],
 "metadata": {
  "kernelspec": {
   "display_name": "Python 3",
   "language": "python",
   "name": "python3"
  },
  "language_info": {
   "codemirror_mode": {
    "name": "ipython",
    "version": 2
   },
   "file_extension": ".py",
   "mimetype": "text/x-python",
   "name": "python",
   "nbconvert_exporter": "python",
   "pygments_lexer": "ipython2",
   "version": "2.7.6"
  }
 },
 "nbformat": 4,
 "nbformat_minor": 5
}
